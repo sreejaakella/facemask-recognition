{
 "cells": [
  {
   "cell_type": "code",
   "execution_count": 1,
   "id": "c7c35eda",
   "metadata": {},
   "outputs": [
    {
     "name": "stdout",
     "output_type": "stream",
     "text": [
      "Requirement already satisfied: pandas in c:\\users\\ssrakella\\onedrive\\desktop\\facemask\\facemask\\lib\\site-packages (2.0.2)\n",
      "Requirement already satisfied: python-dateutil>=2.8.2 in c:\\users\\ssrakella\\onedrive\\desktop\\facemask\\facemask\\lib\\site-packages (from pandas) (2.8.2)\n",
      "Requirement already satisfied: pytz>=2020.1 in c:\\users\\ssrakella\\onedrive\\desktop\\facemask\\facemask\\lib\\site-packages (from pandas) (2023.3)\n",
      "Requirement already satisfied: tzdata>=2022.1 in c:\\users\\ssrakella\\onedrive\\desktop\\facemask\\facemask\\lib\\site-packages (from pandas) (2023.3)\n",
      "Requirement already satisfied: numpy>=1.21.0 in c:\\users\\ssrakella\\onedrive\\desktop\\facemask\\facemask\\lib\\site-packages (from pandas) (1.23.5)\n",
      "Requirement already satisfied: six>=1.5 in c:\\users\\ssrakella\\onedrive\\desktop\\facemask\\facemask\\lib\\site-packages (from python-dateutil>=2.8.2->pandas) (1.16.0)\n"
     ]
    },
    {
     "name": "stderr",
     "output_type": "stream",
     "text": [
      "WARNING: Ignoring invalid distribution -raitlets (c:\\users\\ssrakella\\onedrive\\desktop\\facemask\\facemask\\lib\\site-packages)\n",
      "WARNING: Ignoring invalid distribution -raitlets (c:\\users\\ssrakella\\onedrive\\desktop\\facemask\\facemask\\lib\\site-packages)\n"
     ]
    },
    {
     "name": "stdout",
     "output_type": "stream",
     "text": [
      "Requirement already satisfied: opencv-python in c:\\users\\ssrakella\\onedrive\\desktop\\facemask\\facemask\\lib\\site-packages (4.7.0.72)\n",
      "Requirement already satisfied: numpy>=1.21.2 in c:\\users\\ssrakella\\onedrive\\desktop\\facemask\\facemask\\lib\\site-packages (from opencv-python) (1.23.5)\n"
     ]
    },
    {
     "name": "stderr",
     "output_type": "stream",
     "text": [
      "WARNING: Ignoring invalid distribution -raitlets (c:\\users\\ssrakella\\onedrive\\desktop\\facemask\\facemask\\lib\\site-packages)\n",
      "WARNING: Ignoring invalid distribution -raitlets (c:\\users\\ssrakella\\onedrive\\desktop\\facemask\\facemask\\lib\\site-packages)\n"
     ]
    }
   ],
   "source": [
    "!pip install pandas\n",
    "!pip install opencv-python\n",
    "import os\n",
    "import numpy as np\n",
    "import pandas as pd\n",
    "import cv2\n",
    "import gc\n",
    "from tqdm import tqdm\n",
    "from glob import glob"
   ]
  },
  {
   "cell_type": "code",
   "execution_count": 6,
   "id": "8cdc085f",
   "metadata": {},
   "outputs": [],
   "source": [
    "dirs = os.listdir('data')\n",
    "images_path = []\n",
    "labels = []\n",
    "for folder in dirs:\n",
    "    path = glob('./data/{}/*.jpg'.format(folder))\n",
    "    label =['{}'.format(folder)]*len(path)\n",
    "    # append\n",
    "    images_path.extend(path)\n",
    "    labels.extend(label)"
   ]
  },
  {
   "cell_type": "code",
   "execution_count": 7,
   "id": "0c917641",
   "metadata": {},
   "outputs": [],
   "source": [
    "img_path = images_path[1]\n",
    "img = cv2.imread(img_path)"
   ]
  },
  {
   "cell_type": "code",
   "execution_count": 8,
   "id": "0141445e",
   "metadata": {},
   "outputs": [],
   "source": [
    "cv2.imshow('original',img)\n",
    "cv2.waitKey()\n",
    "cv2.destroyAllWindows()"
   ]
  },
  {
   "cell_type": "code",
   "execution_count": 9,
   "id": "2e0dae58",
   "metadata": {},
   "outputs": [],
   "source": [
    "face_detection_model = cv2.dnn.readNetFromCaffe('./models/deploy.prototxt.txt',\n",
    "                                                './models/res10_300x300_ssd_iter_140000_fp16.caffemodel')"
   ]
  },
  {
   "cell_type": "code",
   "execution_count": 10,
   "id": "c4adf08f",
   "metadata": {},
   "outputs": [],
   "source": [
    "def face_detection_dnn(img):\n",
    "    # blob from image (rgb mean subraction image)\n",
    "    image = img.copy()\n",
    "    h,w = image.shape[:2]\n",
    "    blob = cv2.dnn.blobFromImage(image,1,(300,300),(104,117,123),swapRB=True)\n",
    "    # get the detections\n",
    "    face_detection_model.setInput(blob)\n",
    "    detections = face_detection_model.forward()\n",
    "    for i in range(0,detections.shape[2]):\n",
    "        confidence = detections[0,0,i,2] # confidence score\n",
    "        if confidence > 0.5:\n",
    "            box = detections[0,0,i,3:7]*np.array([w,h,w,h])\n",
    "            box = box.astype(int)\n",
    "            #print(box)\n",
    "            pt1 = (box[0],box[1])\n",
    "            pt2 = (box[2],box[3])\n",
    "            #cv2.rectangle(image,pt1,pt2,(0,255,0),2)\n",
    "            roi = image[box[1]:box[3],box[0]:box[2]]\n",
    "\n",
    "            return roi\n",
    "    return None"
   ]
  },
  {
   "cell_type": "code",
   "execution_count": 11,
   "id": "10ebb8f8",
   "metadata": {},
   "outputs": [],
   "source": [
    "img_roi = face_detection_dnn(img)"
   ]
  },
  {
   "cell_type": "code",
   "execution_count": 12,
   "id": "2b10811a",
   "metadata": {},
   "outputs": [],
   "source": [
    "cv2.imshow('roi',img_roi)\n",
    "cv2.imshow('original',img)\n",
    "cv2.waitKey()\n",
    "cv2.destroyAllWindows()"
   ]
  },
  {
   "cell_type": "code",
   "execution_count": 13,
   "id": "ee7b69e8",
   "metadata": {},
   "outputs": [],
   "source": [
    "def datapreprocess(img):\n",
    "    # blob from image (rgb mean subtraction image)\n",
    "    face = face_detection_dnn(img)\n",
    "    if face is not None:\n",
    "\n",
    "        # computing blob from image\n",
    "        blob = cv2.dnn.blobFromImage(face,1,(100,100),(104,117,123),swapRB=True)\n",
    "        blob_squeeze = np.squeeze(blob).T\n",
    "        blob_rotate = cv2.rotate(blob_squeeze,cv2.ROTATE_90_CLOCKWISE)\n",
    "        blob_flip = cv2.flip(blob_rotate,1)\n",
    "        # remove negative values and normalize\n",
    "        img_norm = np.maximum(blob_flip,0)/blob_flip.max()\n",
    "    \n",
    "        return img_norm\n",
    "    else:\n",
    "        return None\n"
   ]
  },
  {
   "cell_type": "code",
   "execution_count": 14,
   "id": "d89c45ce",
   "metadata": {},
   "outputs": [
    {
     "name": "stderr",
     "output_type": "stream",
     "text": [
      "preprocessing: 10000it [13:41, 12.17it/s]\n"
     ]
    }
   ],
   "source": [
    "data_img = []\n",
    "label_img = []\n",
    "i = 0\n",
    "for path, label in tqdm(zip(images_path,labels),desc='preprocessing'):\n",
    "    img = cv2.imread(path)\n",
    "    process_img = datapreprocess(img)\n",
    "    if process_img is not None:\n",
    "        data_img.append(process_img)\n",
    "        label_img.append(label)\n",
    "          \n",
    "    i += 1\n",
    "    if i%100 == 0:\n",
    "        gc.collect()"
   ]
  },
  {
   "cell_type": "code",
   "execution_count": 15,
   "id": "ebde8953",
   "metadata": {},
   "outputs": [],
   "source": [
    "X = np.array(data_img)\n",
    "y = np.array(label_img)"
   ]
  },
  {
   "cell_type": "code",
   "execution_count": 16,
   "id": "eb9214aa",
   "metadata": {},
   "outputs": [
    {
     "data": {
      "text/plain": [
       "((9959, 100, 100, 3), (9959,))"
      ]
     },
     "execution_count": 16,
     "metadata": {},
     "output_type": "execute_result"
    }
   ],
   "source": [
    "X.shape, y.shape"
   ]
  },
  {
   "cell_type": "code",
   "execution_count": 17,
   "id": "bdd2695f",
   "metadata": {},
   "outputs": [],
   "source": [
    "np.savez('./data/data_preprocess.npz',X,y)"
   ]
  }
 ],
 "metadata": {
  "kernelspec": {
   "display_name": "Python 3 (ipykernel)",
   "language": "python",
   "name": "python3"
  },
  "language_info": {
   "codemirror_mode": {
    "name": "ipython",
    "version": 3
   },
   "file_extension": ".py",
   "mimetype": "text/x-python",
   "name": "python",
   "nbconvert_exporter": "python",
   "pygments_lexer": "ipython3",
   "version": "3.10.4"
  }
 },
 "nbformat": 4,
 "nbformat_minor": 5
}
