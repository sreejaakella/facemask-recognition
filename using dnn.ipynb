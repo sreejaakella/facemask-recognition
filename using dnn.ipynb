{
 "cells": [
  {
   "cell_type": "code",
   "execution_count": 59,
   "id": "ecc62420",
   "metadata": {},
   "outputs": [],
   "source": [
    "import os\n",
    "import numpy as np\n",
    "import cv2\n",
    "import gc"
   ]
  },
  {
   "cell_type": "code",
   "execution_count": 60,
   "id": "eb2980f5",
   "metadata": {},
   "outputs": [],
   "source": [
    "data = np.load('./data/data_preprocess.npz')"
   ]
  },
  {
   "cell_type": "code",
   "execution_count": 61,
   "id": "a515f784",
   "metadata": {},
   "outputs": [],
   "source": [
    "X = data['arr_0']\n",
    "y = data['arr_1']"
   ]
  },
  {
   "cell_type": "code",
   "execution_count": 62,
   "id": "04473c82",
   "metadata": {},
   "outputs": [
    {
     "name": "stdout",
     "output_type": "stream",
     "text": [
      "[[[[0.         0.         0.        ]\n",
      "   [0.         0.         0.        ]\n",
      "   [0.         0.         0.        ]\n",
      "   ...\n",
      "   [0.         0.6453901  0.7659575 ]\n",
      "   [0.         0.7092199  0.80851066]\n",
      "   [0.         0.78723407 0.8014184 ]]\n",
      "\n",
      "  [[0.         0.         0.        ]\n",
      "   [0.         0.         0.        ]\n",
      "   [0.         0.         0.        ]\n",
      "   ...\n",
      "   [0.         0.59574467 0.73049647]\n",
      "   [0.         0.6453901  0.75886524]\n",
      "   [0.         0.6879433  0.79432625]]\n",
      "\n",
      "  [[0.         0.         0.        ]\n",
      "   [0.         0.         0.        ]\n",
      "   [0.         0.         0.        ]\n",
      "   ...\n",
      "   [0.         0.5177305  0.68085104]\n",
      "   [0.         0.56028366 0.70212764]\n",
      "   [0.         0.6099291  0.75177306]]\n",
      "\n",
      "  ...\n",
      "\n",
      "  [[0.59574467 0.82978725 0.822695  ]\n",
      "   [0.6099291  0.8439716  0.81560284]\n",
      "   [0.59574467 0.822695   0.77304965]\n",
      "   ...\n",
      "   [0.         0.         0.        ]\n",
      "   [0.         0.         0.        ]\n",
      "   [0.         0.         0.        ]]\n",
      "\n",
      "  [[0.25531915 0.6099291  0.6524823 ]\n",
      "   [0.30496454 0.6666667  0.70212764]\n",
      "   [0.30496454 0.6666667  0.6879433 ]\n",
      "   ...\n",
      "   [0.         0.         0.        ]\n",
      "   [0.         0.         0.        ]\n",
      "   [0.         0.         0.        ]]\n",
      "\n",
      "  [[0.35460994 0.6879433  0.41843972]\n",
      "   [0.31205675 0.6666667  0.40425533]\n",
      "   [0.33333334 0.70212764 0.4397163 ]\n",
      "   ...\n",
      "   [0.         0.         0.        ]\n",
      "   [0.         0.         0.        ]\n",
      "   [0.         0.         0.        ]]]\n",
      "\n",
      "\n",
      " [[[0.         0.         0.        ]\n",
      "   [0.         0.         0.        ]\n",
      "   [0.         0.         0.        ]\n",
      "   ...\n",
      "   [0.         0.         0.        ]\n",
      "   [0.09933775 0.         0.        ]\n",
      "   [0.1192053  0.         0.        ]]\n",
      "\n",
      "  [[0.         0.         0.        ]\n",
      "   [0.         0.         0.        ]\n",
      "   [0.         0.         0.        ]\n",
      "   ...\n",
      "   [0.         0.         0.        ]\n",
      "   [0.         0.         0.        ]\n",
      "   [0.13245033 0.         0.        ]]\n",
      "\n",
      "  [[0.         0.         0.        ]\n",
      "   [0.         0.         0.        ]\n",
      "   [0.         0.         0.        ]\n",
      "   ...\n",
      "   [0.         0.         0.        ]\n",
      "   [0.         0.         0.        ]\n",
      "   [0.1192053  0.         0.        ]]\n",
      "\n",
      "  ...\n",
      "\n",
      "  [[0.         0.         0.        ]\n",
      "   [0.         0.         0.        ]\n",
      "   [0.         0.         0.        ]\n",
      "   ...\n",
      "   [0.         0.         0.        ]\n",
      "   [0.         0.         0.        ]\n",
      "   [0.         0.         0.        ]]\n",
      "\n",
      "  [[0.         0.         0.        ]\n",
      "   [0.         0.         0.        ]\n",
      "   [0.         0.         0.        ]\n",
      "   ...\n",
      "   [0.         0.         0.        ]\n",
      "   [0.         0.         0.        ]\n",
      "   [0.         0.         0.        ]]\n",
      "\n",
      "  [[0.         0.         0.        ]\n",
      "   [0.         0.         0.        ]\n",
      "   [0.         0.         0.        ]\n",
      "   ...\n",
      "   [0.         0.         0.        ]\n",
      "   [0.         0.         0.        ]\n",
      "   [0.         0.         0.        ]]]\n",
      "\n",
      "\n",
      " [[[0.02040816 0.         0.01360544]\n",
      "   [0.         0.         0.        ]\n",
      "   [0.         0.         0.        ]\n",
      "   ...\n",
      "   [0.         0.         0.        ]\n",
      "   [0.         0.         0.        ]\n",
      "   [0.         0.         0.        ]]\n",
      "\n",
      "  [[0.         0.         0.        ]\n",
      "   [0.         0.         0.        ]\n",
      "   [0.         0.         0.        ]\n",
      "   ...\n",
      "   [0.         0.         0.        ]\n",
      "   [0.         0.         0.        ]\n",
      "   [0.         0.         0.        ]]\n",
      "\n",
      "  [[0.         0.         0.        ]\n",
      "   [0.         0.         0.        ]\n",
      "   [0.         0.         0.        ]\n",
      "   ...\n",
      "   [0.         0.         0.        ]\n",
      "   [0.         0.         0.        ]\n",
      "   [0.         0.         0.        ]]\n",
      "\n",
      "  ...\n",
      "\n",
      "  [[0.         0.         0.        ]\n",
      "   [0.         0.         0.        ]\n",
      "   [0.         0.         0.        ]\n",
      "   ...\n",
      "   [0.         0.         0.        ]\n",
      "   [0.         0.         0.        ]\n",
      "   [0.         0.         0.        ]]\n",
      "\n",
      "  [[0.         0.         0.        ]\n",
      "   [0.         0.         0.        ]\n",
      "   [0.         0.         0.        ]\n",
      "   ...\n",
      "   [0.         0.         0.        ]\n",
      "   [0.         0.         0.        ]\n",
      "   [0.         0.         0.        ]]\n",
      "\n",
      "  [[0.         0.         0.        ]\n",
      "   [0.         0.         0.        ]\n",
      "   [0.         0.         0.        ]\n",
      "   ...\n",
      "   [0.         0.         0.        ]\n",
      "   [0.         0.         0.        ]\n",
      "   [0.         0.         0.        ]]]\n",
      "\n",
      "\n",
      " ...\n",
      "\n",
      "\n",
      " [[[0.         0.         0.        ]\n",
      "   [0.         0.         0.        ]\n",
      "   [0.         0.         0.        ]\n",
      "   ...\n",
      "   [0.         0.         0.        ]\n",
      "   [0.         0.         0.        ]\n",
      "   [0.         0.         0.        ]]\n",
      "\n",
      "  [[0.         0.         0.        ]\n",
      "   [0.         0.         0.        ]\n",
      "   [0.         0.         0.        ]\n",
      "   ...\n",
      "   [0.         0.         0.        ]\n",
      "   [0.         0.         0.        ]\n",
      "   [0.         0.         0.        ]]\n",
      "\n",
      "  [[0.         0.         0.        ]\n",
      "   [0.         0.         0.        ]\n",
      "   [0.         0.         0.        ]\n",
      "   ...\n",
      "   [0.         0.         0.        ]\n",
      "   [0.         0.         0.        ]\n",
      "   [0.         0.         0.        ]]\n",
      "\n",
      "  ...\n",
      "\n",
      "  [[0.         0.         0.        ]\n",
      "   [0.         0.         0.        ]\n",
      "   [0.         0.         0.        ]\n",
      "   ...\n",
      "   [0.         0.         0.        ]\n",
      "   [0.         0.         0.        ]\n",
      "   [0.         0.         0.        ]]\n",
      "\n",
      "  [[0.04511278 0.         0.        ]\n",
      "   [0.         0.         0.        ]\n",
      "   [0.         0.         0.        ]\n",
      "   ...\n",
      "   [0.         0.         0.        ]\n",
      "   [0.         0.         0.        ]\n",
      "   [0.         0.         0.        ]]\n",
      "\n",
      "  [[0.10526316 0.         0.        ]\n",
      "   [0.09774436 0.         0.        ]\n",
      "   [0.08270676 0.         0.        ]\n",
      "   ...\n",
      "   [0.         0.         0.        ]\n",
      "   [0.         0.         0.        ]\n",
      "   [0.         0.         0.        ]]]\n",
      "\n",
      "\n",
      " [[[0.         0.         0.        ]\n",
      "   [0.         0.         0.        ]\n",
      "   [0.         0.         0.        ]\n",
      "   ...\n",
      "   [0.         0.         0.        ]\n",
      "   [0.         0.         0.        ]\n",
      "   [0.         0.         0.        ]]\n",
      "\n",
      "  [[0.         0.         0.        ]\n",
      "   [0.         0.         0.        ]\n",
      "   [0.         0.         0.        ]\n",
      "   ...\n",
      "   [0.         0.         0.        ]\n",
      "   [0.         0.         0.        ]\n",
      "   [0.         0.         0.        ]]\n",
      "\n",
      "  [[0.         0.         0.        ]\n",
      "   [0.         0.         0.        ]\n",
      "   [0.         0.         0.        ]\n",
      "   ...\n",
      "   [0.         0.         0.        ]\n",
      "   [0.         0.         0.        ]\n",
      "   [0.         0.         0.        ]]\n",
      "\n",
      "  ...\n",
      "\n",
      "  [[0.         0.         0.        ]\n",
      "   [0.         0.         0.        ]\n",
      "   [0.         0.         0.        ]\n",
      "   ...\n",
      "   [0.         0.         0.        ]\n",
      "   [0.         0.         0.        ]\n",
      "   [0.         0.         0.        ]]\n",
      "\n",
      "  [[0.         0.         0.        ]\n",
      "   [0.         0.         0.        ]\n",
      "   [0.         0.         0.        ]\n",
      "   ...\n",
      "   [0.         0.         0.        ]\n",
      "   [0.         0.         0.        ]\n",
      "   [0.         0.         0.        ]]\n",
      "\n",
      "  [[0.         0.         0.        ]\n",
      "   [0.         0.         0.        ]\n",
      "   [0.         0.         0.        ]\n",
      "   ...\n",
      "   [0.         0.         0.        ]\n",
      "   [0.         0.         0.        ]\n",
      "   [0.         0.         0.        ]]]\n",
      "\n",
      "\n",
      " [[[0.         0.         0.        ]\n",
      "   [0.         0.         0.        ]\n",
      "   [0.         0.         0.        ]\n",
      "   ...\n",
      "   [0.         0.         0.        ]\n",
      "   [0.         0.         0.        ]\n",
      "   [0.         0.         0.        ]]\n",
      "\n",
      "  [[0.         0.         0.        ]\n",
      "   [0.         0.         0.        ]\n",
      "   [0.         0.         0.        ]\n",
      "   ...\n",
      "   [0.06756756 0.         0.        ]\n",
      "   [0.         0.         0.        ]\n",
      "   [0.         0.         0.        ]]\n",
      "\n",
      "  [[0.         0.         0.        ]\n",
      "   [0.         0.         0.        ]\n",
      "   [0.         0.         0.        ]\n",
      "   ...\n",
      "   [0.08783784 0.         0.        ]\n",
      "   [0.04054054 0.         0.        ]\n",
      "   [0.         0.         0.        ]]\n",
      "\n",
      "  ...\n",
      "\n",
      "  [[0.         0.         0.        ]\n",
      "   [0.         0.         0.        ]\n",
      "   [0.         0.         0.        ]\n",
      "   ...\n",
      "   [0.         0.         0.        ]\n",
      "   [0.         0.         0.        ]\n",
      "   [0.         0.         0.        ]]\n",
      "\n",
      "  [[0.         0.         0.        ]\n",
      "   [0.         0.         0.        ]\n",
      "   [0.         0.         0.        ]\n",
      "   ...\n",
      "   [0.         0.         0.        ]\n",
      "   [0.         0.         0.        ]\n",
      "   [0.         0.         0.        ]]\n",
      "\n",
      "  [[0.         0.         0.        ]\n",
      "   [0.         0.         0.        ]\n",
      "   [0.         0.         0.        ]\n",
      "   ...\n",
      "   [0.         0.         0.        ]\n",
      "   [0.         0.         0.        ]\n",
      "   [0.         0.         0.        ]]]]\n"
     ]
    }
   ],
   "source": [
    "print(X)"
   ]
  },
  {
   "cell_type": "code",
   "execution_count": 63,
   "id": "8d6303b3",
   "metadata": {},
   "outputs": [
    {
     "name": "stdout",
     "output_type": "stream",
     "text": [
      "['Mask' 'Mask' 'Mask' ... 'Mask_Nose_Mouth' 'Mask_Nose_Mouth'\n",
      " 'Mask_Nose_Mouth']\n"
     ]
    }
   ],
   "source": [
    "print(y)"
   ]
  },
  {
   "cell_type": "code",
   "execution_count": 64,
   "id": "f8f89575",
   "metadata": {},
   "outputs": [
    {
     "data": {
      "text/plain": [
       "((9959, 100, 100, 3), (9959,))"
      ]
     },
     "execution_count": 64,
     "metadata": {},
     "output_type": "execute_result"
    }
   ],
   "source": [
    "X.shape, y.shape"
   ]
  },
  {
   "cell_type": "code",
   "execution_count": 65,
   "id": "52f120c4",
   "metadata": {},
   "outputs": [
    {
     "data": {
      "text/plain": [
       "array(['Mask', 'Mask_Chin', 'Mask_Mouth_Chin', 'Mask_Nose_Mouth'],\n",
       "      dtype='<U15')"
      ]
     },
     "execution_count": 65,
     "metadata": {},
     "output_type": "execute_result"
    }
   ],
   "source": [
    "np.unique(y)"
   ]
  },
  {
   "cell_type": "code",
   "execution_count": 66,
   "id": "8b4a93ce",
   "metadata": {},
   "outputs": [
    {
     "name": "stdout",
     "output_type": "stream",
     "text": [
      "Requirement already satisfied: scikit-learn in c:\\users\\ssrakella\\onedrive\\desktop\\facemask\\facemask\\lib\\site-packages (1.3.0)\n",
      "Requirement already satisfied: numpy>=1.17.3 in c:\\users\\ssrakella\\onedrive\\desktop\\facemask\\facemask\\lib\\site-packages (from scikit-learn) (1.23.5)\n",
      "Requirement already satisfied: scipy>=1.5.0 in c:\\users\\ssrakella\\onedrive\\desktop\\facemask\\facemask\\lib\\site-packages (from scikit-learn) (1.11.0)\n",
      "Requirement already satisfied: joblib>=1.1.1 in c:\\users\\ssrakella\\onedrive\\desktop\\facemask\\facemask\\lib\\site-packages (from scikit-learn) (1.3.1)\n",
      "Requirement already satisfied: threadpoolctl>=2.0.0 in c:\\users\\ssrakella\\onedrive\\desktop\\facemask\\facemask\\lib\\site-packages (from scikit-learn) (2.2.0)\n"
     ]
    },
    {
     "name": "stderr",
     "output_type": "stream",
     "text": [
      "WARNING: Ignoring invalid distribution -raitlets (c:\\users\\ssrakella\\onedrive\\desktop\\facemask\\facemask\\lib\\site-packages)\n",
      "WARNING: Ignoring invalid distribution -raitlets (c:\\users\\ssrakella\\onedrive\\desktop\\facemask\\facemask\\lib\\site-packages)\n"
     ]
    }
   ],
   "source": [
    "!pip install scikit-learn\n",
    "import sklearn\n",
    "from sklearn.preprocessing import OneHotEncoder"
   ]
  },
  {
   "cell_type": "code",
   "execution_count": 67,
   "id": "dd85f7e7",
   "metadata": {},
   "outputs": [],
   "source": [
    "onehot = OneHotEncoder()\n",
    "y_onehot = onehot.fit_transform(y.reshape(-1,1))"
   ]
  },
  {
   "cell_type": "code",
   "execution_count": 68,
   "id": "327b1235",
   "metadata": {},
   "outputs": [],
   "source": [
    "y_array = y_onehot.toarray()"
   ]
  },
  {
   "cell_type": "code",
   "execution_count": 69,
   "id": "d3458439",
   "metadata": {},
   "outputs": [],
   "source": [
    "from sklearn.model_selection import train_test_split\n",
    "x_train, x_test, y_train, y_test = train_test_split(X,y_array,test_size=0.2,random_state=42)"
   ]
  },
  {
   "cell_type": "code",
   "execution_count": 70,
   "id": "cf970799",
   "metadata": {},
   "outputs": [
    {
     "data": {
      "text/plain": [
       "((7967, 100, 100, 3), (1992, 100, 100, 3), (7967, 4), (1992, 4))"
      ]
     },
     "execution_count": 70,
     "metadata": {},
     "output_type": "execute_result"
    }
   ],
   "source": [
    "x_train.shape, x_test.shape, y_train.shape, y_test.shape"
   ]
  },
  {
   "cell_type": "code",
   "execution_count": 71,
   "id": "864d2348",
   "metadata": {},
   "outputs": [
    {
     "data": {
      "text/plain": [
       "array([[0., 0., 1., 0.],\n",
       "       [0., 0., 0., 1.],\n",
       "       [0., 0., 0., 1.],\n",
       "       ...,\n",
       "       [0., 0., 1., 0.],\n",
       "       [1., 0., 0., 0.],\n",
       "       [0., 0., 1., 0.]])"
      ]
     },
     "execution_count": 71,
     "metadata": {},
     "output_type": "execute_result"
    }
   ],
   "source": [
    "y_train"
   ]
  },
  {
   "cell_type": "code",
   "execution_count": 72,
   "id": "a5f28f58",
   "metadata": {},
   "outputs": [],
   "source": [
    "cv2.imshow('a',x_train[-2])\n",
    "cv2.waitKey()\n",
    "cv2.destroyAllWindows()"
   ]
  },
  {
   "cell_type": "code",
   "execution_count": 73,
   "id": "61eea7bf",
   "metadata": {},
   "outputs": [],
   "source": [
    "import tensorflow as tf\n",
    "from tensorflow.keras import layers\n",
    "from tensorflow.keras import Sequential"
   ]
  },
  {
   "cell_type": "code",
   "execution_count": 74,
   "id": "b5d2c060",
   "metadata": {},
   "outputs": [],
   "source": [
    "model = Sequential([\n",
    "    layers.Conv2D(16,3,padding='same',input_shape=(100,100,3),activation='relu'),\n",
    "    layers.MaxPool2D(),\n",
    "    layers.Conv2D(32,3,padding='same',activation='relu'),\n",
    "    layers.MaxPool2D(),\n",
    "    layers.Conv2D(64,3,padding='same',activation='relu'),\n",
    "    layers.MaxPool2D(),\n",
    "    layers.Flatten(),\n",
    "    layers.Dense(192,activation='relu'),\n",
    "    layers.Dense(28,activation='relu'),\n",
    "    layers.Dense(4,activation='sigmoid')\n",
    "])\n",
    "\n",
    "\n",
    "# compiling CNN\n",
    "model.compile(optimizer=tf.keras.optimizers.Adam(learning_rate=0.001),\n",
    "              loss=tf.keras.losses.categorical_crossentropy,metrics=['accuracy'])"
   ]
  },
  {
   "cell_type": "code",
   "execution_count": 75,
   "id": "79fe7d62",
   "metadata": {},
   "outputs": [
    {
     "name": "stdout",
     "output_type": "stream",
     "text": [
      "Model: \"sequential\"\n",
      "_________________________________________________________________\n",
      " Layer (type)                Output Shape              Param #   \n",
      "=================================================================\n",
      " conv2d (Conv2D)             (None, 100, 100, 16)      448       \n",
      "                                                                 \n",
      " max_pooling2d (MaxPooling2D  (None, 50, 50, 16)       0         \n",
      " )                                                               \n",
      "                                                                 \n",
      " conv2d_1 (Conv2D)           (None, 50, 50, 32)        4640      \n",
      "                                                                 \n",
      " max_pooling2d_1 (MaxPooling  (None, 25, 25, 32)       0         \n",
      " 2D)                                                             \n",
      "                                                                 \n",
      " conv2d_2 (Conv2D)           (None, 25, 25, 64)        18496     \n",
      "                                                                 \n",
      " max_pooling2d_2 (MaxPooling  (None, 12, 12, 64)       0         \n",
      " 2D)                                                             \n",
      "                                                                 \n",
      " flatten (Flatten)           (None, 9216)              0         \n",
      "                                                                 \n",
      " dense (Dense)               (None, 192)               1769664   \n",
      "                                                                 \n",
      " dense_1 (Dense)             (None, 28)                5404      \n",
      "                                                                 \n",
      " dense_2 (Dense)             (None, 4)                 116       \n",
      "                                                                 \n",
      "=================================================================\n",
      "Total params: 1,798,768\n",
      "Trainable params: 1,798,768\n",
      "Non-trainable params: 0\n",
      "_________________________________________________________________\n"
     ]
    }
   ],
   "source": [
    "model.summary()"
   ]
  },
  {
   "cell_type": "code",
   "execution_count": 76,
   "id": "8f8480b1",
   "metadata": {},
   "outputs": [
    {
     "name": "stdout",
     "output_type": "stream",
     "text": [
      "Epoch 1/20\n",
      "266/266 [==============================] - 31s 113ms/step - loss: 0.2178 - accuracy: 0.9244 - val_loss: 0.1579 - val_accuracy: 0.9503\n",
      "Epoch 2/20\n",
      "266/266 [==============================] - 35s 131ms/step - loss: 0.0650 - accuracy: 0.9783 - val_loss: 0.0506 - val_accuracy: 0.9854\n",
      "Epoch 3/20\n",
      "266/266 [==============================] - 43s 161ms/step - loss: 0.0430 - accuracy: 0.9847 - val_loss: 0.0652 - val_accuracy: 0.9809\n",
      "Epoch 4/20\n",
      "266/266 [==============================] - 41s 153ms/step - loss: 0.0235 - accuracy: 0.9922 - val_loss: 0.0725 - val_accuracy: 0.9784\n",
      "Epoch 5/20\n",
      "266/266 [==============================] - 37s 138ms/step - loss: 0.0193 - accuracy: 0.9928 - val_loss: 0.0501 - val_accuracy: 0.9834\n",
      "Epoch 6/20\n",
      "266/266 [==============================] - 40s 152ms/step - loss: 0.0130 - accuracy: 0.9957 - val_loss: 0.0802 - val_accuracy: 0.9829\n",
      "Epoch 7/20\n",
      "266/266 [==============================] - 37s 138ms/step - loss: 0.0123 - accuracy: 0.9957 - val_loss: 0.0792 - val_accuracy: 0.9839\n",
      "Epoch 8/20\n",
      "266/266 [==============================] - 35s 132ms/step - loss: 0.0150 - accuracy: 0.9946 - val_loss: 0.0425 - val_accuracy: 0.9864\n",
      "Epoch 9/20\n",
      "266/266 [==============================] - 39s 145ms/step - loss: 0.0080 - accuracy: 0.9980 - val_loss: 0.0458 - val_accuracy: 0.9864\n",
      "Epoch 10/20\n",
      "266/266 [==============================] - 33s 124ms/step - loss: 0.0020 - accuracy: 0.9994 - val_loss: 0.0537 - val_accuracy: 0.9895\n",
      "Epoch 11/20\n",
      "266/266 [==============================] - 33s 124ms/step - loss: 9.8134e-05 - accuracy: 1.0000 - val_loss: 0.0576 - val_accuracy: 0.9895\n",
      "Epoch 12/20\n",
      "266/266 [==============================] - 34s 126ms/step - loss: 3.6815e-05 - accuracy: 1.0000 - val_loss: 0.0618 - val_accuracy: 0.9895\n",
      "Epoch 13/20\n",
      "266/266 [==============================] - 144s 543ms/step - loss: 2.4950e-05 - accuracy: 1.0000 - val_loss: 0.0641 - val_accuracy: 0.9900\n",
      "Epoch 14/20\n",
      "266/266 [==============================] - 35s 130ms/step - loss: 1.8557e-05 - accuracy: 1.0000 - val_loss: 0.0668 - val_accuracy: 0.9900\n",
      "Epoch 15/20\n",
      "266/266 [==============================] - 38s 143ms/step - loss: 1.4167e-05 - accuracy: 1.0000 - val_loss: 0.0690 - val_accuracy: 0.9895\n",
      "Epoch 16/20\n",
      "266/266 [==============================] - 37s 140ms/step - loss: 1.1153e-05 - accuracy: 1.0000 - val_loss: 0.0706 - val_accuracy: 0.9895\n",
      "Epoch 17/20\n",
      "266/266 [==============================] - 38s 142ms/step - loss: 9.0408e-06 - accuracy: 1.0000 - val_loss: 0.0723 - val_accuracy: 0.9895\n",
      "Epoch 18/20\n",
      "266/266 [==============================] - 37s 140ms/step - loss: 7.2643e-06 - accuracy: 1.0000 - val_loss: 0.0741 - val_accuracy: 0.9895\n",
      "Epoch 19/20\n",
      "266/266 [==============================] - 35s 130ms/step - loss: 5.9526e-06 - accuracy: 1.0000 - val_loss: 0.0757 - val_accuracy: 0.9895\n",
      "Epoch 20/20\n",
      "266/266 [==============================] - 34s 129ms/step - loss: 4.9144e-06 - accuracy: 1.0000 - val_loss: 0.0768 - val_accuracy: 0.9895\n"
     ]
    }
   ],
   "source": [
    "history = model.fit(x=x_train,y=y_train,validation_data=(x_test,y_test),batch_size=30,epochs=20)"
   ]
  },
  {
   "cell_type": "code",
   "execution_count": 78,
   "id": "7d5b1865",
   "metadata": {},
   "outputs": [
    {
     "name": "stdout",
     "output_type": "stream",
     "text": [
      "Collecting matplotlib\n",
      "  Downloading matplotlib-3.7.1-cp310-cp310-win_amd64.whl (7.6 MB)\n",
      "                                              0.0/7.6 MB ? eta -:--:--\n",
      "                                              0.1/7.6 MB 8.9 MB/s eta 0:00:01\n",
      "     --                                       0.4/7.6 MB 4.9 MB/s eta 0:00:02\n",
      "     ----                                     0.9/7.6 MB 6.3 MB/s eta 0:00:02\n",
      "     -----                                    1.1/7.6 MB 6.5 MB/s eta 0:00:02\n",
      "     ------                                   1.3/7.6 MB 6.0 MB/s eta 0:00:02\n",
      "     -------                                  1.5/7.6 MB 5.6 MB/s eta 0:00:02\n",
      "     --------                                 1.7/7.6 MB 5.3 MB/s eta 0:00:02\n",
      "     ---------                                1.9/7.6 MB 4.9 MB/s eta 0:00:02\n",
      "     ----------                               2.0/7.6 MB 5.0 MB/s eta 0:00:02\n",
      "     ----------                               2.0/7.6 MB 5.0 MB/s eta 0:00:02\n",
      "     -----------                              2.2/7.6 MB 4.5 MB/s eta 0:00:02\n",
      "     -------------                            2.6/7.6 MB 4.7 MB/s eta 0:00:02\n",
      "     --------------                           2.8/7.6 MB 4.5 MB/s eta 0:00:02\n",
      "     ---------------                          3.0/7.6 MB 4.6 MB/s eta 0:00:02\n",
      "     ----------------                         3.1/7.6 MB 4.6 MB/s eta 0:00:01\n",
      "     -----------------                        3.3/7.6 MB 4.5 MB/s eta 0:00:01\n",
      "     ------------------                       3.5/7.6 MB 4.5 MB/s eta 0:00:01\n",
      "     -------------------                      3.6/7.6 MB 4.4 MB/s eta 0:00:01\n",
      "     --------------------                     3.8/7.6 MB 4.4 MB/s eta 0:00:01\n",
      "     --------------------                     4.0/7.6 MB 4.3 MB/s eta 0:00:01\n",
      "     ---------------------                    4.2/7.6 MB 4.3 MB/s eta 0:00:01\n",
      "     ----------------------                   4.4/7.6 MB 4.2 MB/s eta 0:00:01\n",
      "     -----------------------                  4.5/7.6 MB 4.2 MB/s eta 0:00:01\n",
      "     ------------------------                 4.7/7.6 MB 4.2 MB/s eta 0:00:01\n",
      "     -------------------------                4.9/7.6 MB 4.2 MB/s eta 0:00:01\n",
      "     --------------------------               5.0/7.6 MB 4.2 MB/s eta 0:00:01\n",
      "     ---------------------------              5.2/7.6 MB 4.1 MB/s eta 0:00:01\n",
      "     ----------------------------             5.4/7.6 MB 4.1 MB/s eta 0:00:01\n",
      "     ----------------------------             5.5/7.6 MB 4.1 MB/s eta 0:00:01\n",
      "     -----------------------------            5.7/7.6 MB 4.1 MB/s eta 0:00:01\n",
      "     ------------------------------           5.9/7.6 MB 4.0 MB/s eta 0:00:01\n",
      "     -------------------------------          6.1/7.6 MB 4.0 MB/s eta 0:00:01\n",
      "     --------------------------------         6.2/7.6 MB 4.0 MB/s eta 0:00:01\n",
      "     ---------------------------------        6.4/7.6 MB 4.0 MB/s eta 0:00:01\n",
      "     ----------------------------------       6.6/7.6 MB 4.0 MB/s eta 0:00:01\n",
      "     ----------------------------------       6.7/7.6 MB 4.0 MB/s eta 0:00:01\n",
      "     ------------------------------------     6.9/7.6 MB 4.0 MB/s eta 0:00:01\n",
      "     -------------------------------------    7.1/7.6 MB 4.0 MB/s eta 0:00:01\n",
      "     --------------------------------------   7.2/7.6 MB 4.0 MB/s eta 0:00:01\n",
      "     --------------------------------------   7.4/7.6 MB 3.9 MB/s eta 0:00:01\n",
      "     ---------------------------------------  7.6/7.6 MB 3.9 MB/s eta 0:00:01\n",
      "     ---------------------------------------  7.6/7.6 MB 3.9 MB/s eta 0:00:01\n",
      "     ---------------------------------------- 7.6/7.6 MB 3.8 MB/s eta 0:00:00\n",
      "Collecting contourpy>=1.0.1 (from matplotlib)\n",
      "  Downloading contourpy-1.1.0-cp310-cp310-win_amd64.whl (470 kB)\n",
      "                                              0.0/470.4 kB ? eta -:--:--\n",
      "     ------------------------               307.2/470.4 kB 9.6 MB/s eta 0:00:01\n",
      "     -------------------------------------- 470.4/470.4 kB 7.3 MB/s eta 0:00:00\n",
      "Requirement already satisfied: cycler>=0.10 in c:\\users\\ssrakella\\onedrive\\desktop\\facemask\\facemask\\lib\\site-packages (from matplotlib) (0.11.0)\n",
      "Collecting fonttools>=4.22.0 (from matplotlib)\n",
      "  Downloading fonttools-4.40.0-cp310-cp310-win_amd64.whl (1.9 MB)\n",
      "                                              0.0/1.9 MB ? eta -:--:--\n",
      "     ---------                                0.4/1.9 MB 6.9 MB/s eta 0:00:01\n",
      "     ---------------                          0.8/1.9 MB 8.0 MB/s eta 0:00:01\n",
      "     -------------------                      1.0/1.9 MB 6.7 MB/s eta 0:00:01\n",
      "     ----------------------                   1.1/1.9 MB 5.8 MB/s eta 0:00:01\n",
      "     --------------------------               1.3/1.9 MB 5.5 MB/s eta 0:00:01\n",
      "     ------------------------------           1.5/1.9 MB 5.2 MB/s eta 0:00:01\n",
      "     ---------------------------------        1.6/1.9 MB 5.0 MB/s eta 0:00:01\n",
      "     -------------------------------------    1.8/1.9 MB 4.9 MB/s eta 0:00:01\n",
      "     ---------------------------------------- 1.9/1.9 MB 4.6 MB/s eta 0:00:00\n",
      "Collecting kiwisolver>=1.0.1 (from matplotlib)\n",
      "  Downloading kiwisolver-1.4.4-cp310-cp310-win_amd64.whl (55 kB)\n",
      "                                              0.0/55.3 kB ? eta -:--:--\n",
      "     ---------------------------------------- 55.3/55.3 kB ? eta 0:00:00\n",
      "Requirement already satisfied: numpy>=1.20 in c:\\users\\ssrakella\\onedrive\\desktop\\facemask\\facemask\\lib\\site-packages (from matplotlib) (1.23.5)\n",
      "Requirement already satisfied: packaging>=20.0 in c:\\users\\ssrakella\\onedrive\\desktop\\facemask\\facemask\\lib\\site-packages (from matplotlib) (23.1)\n",
      "Collecting pillow>=6.2.0 (from matplotlib)\n",
      "  Downloading Pillow-10.0.0-cp310-cp310-win_amd64.whl (2.5 MB)\n",
      "                                              0.0/2.5 MB ? eta -:--:--\n",
      "     -----                                    0.4/2.5 MB 7.6 MB/s eta 0:00:01\n",
      "     -----------                              0.7/2.5 MB 9.5 MB/s eta 0:00:01\n",
      "     --------------                           0.9/2.5 MB 6.5 MB/s eta 0:00:01\n",
      "     -----------------                        1.1/2.5 MB 5.9 MB/s eta 0:00:01\n",
      "     --------------------                     1.3/2.5 MB 5.5 MB/s eta 0:00:01\n",
      "     -----------------------                  1.5/2.5 MB 5.5 MB/s eta 0:00:01\n",
      "     --------------------------               1.7/2.5 MB 5.0 MB/s eta 0:00:01\n",
      "     -----------------------------            1.9/2.5 MB 5.1 MB/s eta 0:00:01\n",
      "     --------------------------------         2.0/2.5 MB 4.8 MB/s eta 0:00:01\n",
      "     -----------------------------------      2.2/2.5 MB 4.9 MB/s eta 0:00:01\n",
      "     --------------------------------------   2.4/2.5 MB 4.7 MB/s eta 0:00:01\n",
      "     ---------------------------------------- 2.5/2.5 MB 4.5 MB/s eta 0:00:00\n",
      "Collecting pyparsing>=2.3.1 (from matplotlib)\n",
      "  Downloading pyparsing-3.1.0-py3-none-any.whl (102 kB)\n",
      "                                              0.0/102.6 kB ? eta -:--:--\n",
      "     -------------------------------------- 102.6/102.6 kB 3.0 MB/s eta 0:00:00\n",
      "Requirement already satisfied: python-dateutil>=2.7 in c:\\users\\ssrakella\\onedrive\\desktop\\facemask\\facemask\\lib\\site-packages (from matplotlib) (2.8.2)\n",
      "Requirement already satisfied: six>=1.5 in c:\\users\\ssrakella\\onedrive\\desktop\\facemask\\facemask\\lib\\site-packages (from python-dateutil>=2.7->matplotlib) (1.16.0)\n",
      "Installing collected packages: pyparsing, pillow, kiwisolver, fonttools, contourpy, matplotlib\n",
      "Successfully installed contourpy-1.1.0 fonttools-4.40.0 kiwisolver-1.4.4 matplotlib-3.7.1 pillow-10.0.0 pyparsing-3.1.0\n"
     ]
    },
    {
     "name": "stderr",
     "output_type": "stream",
     "text": [
      "WARNING: Ignoring invalid distribution -raitlets (c:\\users\\ssrakella\\onedrive\\desktop\\facemask\\facemask\\lib\\site-packages)\n",
      "WARNING: Ignoring invalid distribution -raitlets (c:\\users\\ssrakella\\onedrive\\desktop\\facemask\\facemask\\lib\\site-packages)\n"
     ]
    },
    {
     "data": {
      "image/png": "[encoded data removed]",
      "text/plain": [
       "<Figure size 640x480 with 1 Axes>"
      ]
     },
     "metadata": {},
     "output_type": "display_data"
    },
    {
     "data": {
      "image/png": "[encoded data removed]",
      "text/plain": [
       "<Figure size 640x480 with 1 Axes>"
      ]
     },
     "metadata": {},
     "output_type": "display_data"
    }
   ],
   "source": [
    "!pip install matplotlib\n",
    "import pandas as pd\n",
    "import matplotlib.pyplot as plt\n",
    "\n",
    "history_df = pd.DataFrame(history.history)\n",
    "\n",
    "history_df\n",
    "\n",
    "history_df[['loss','val_loss']].plot(kind='line')\n",
    "plt.xlabel('Epochs')\n",
    "plt.ylabel('Loss')\n",
    "plt.xticks(list(range(10)),list(range(1,11)))\n",
    "plt.show()\n",
    "\n",
    "history_df[['accuracy','val_accuracy']].plot(kind='line')\n",
    "plt.xlabel('Epochs')\n",
    "plt.ylabel('Accuracy')\n",
    "plt.xticks(list(range(10)),list(range(1,11)))\n",
    "plt.show()\n"
   ]
  },
  {
   "cell_type": "code",
   "execution_count": 79,
   "id": "0070a6a9",
   "metadata": {},
   "outputs": [
    {
     "name": "stderr",
     "output_type": "stream",
     "text": [
      "WARNING:absl:Found untraced functions such as _jit_compiled_convolution_op, _jit_compiled_convolution_op, _jit_compiled_convolution_op, _update_step_xla while saving (showing 4 of 4). These functions will not be directly callable after loading.\n"
     ]
    },
    {
     "name": "stdout",
     "output_type": "stream",
     "text": [
      "INFO:tensorflow:Assets written to: face_cnn_model\\assets\n"
     ]
    },
    {
     "name": "stderr",
     "output_type": "stream",
     "text": [
      "INFO:tensorflow:Assets written to: face_cnn_model\\assets\n"
     ]
    }
   ],
   "source": [
    "model.save('face_cnn_model')"
   ]
  },
  {
   "cell_type": "code",
   "execution_count": 80,
   "id": "50ef0e4b",
   "metadata": {},
   "outputs": [
    {
     "data": {
      "text/plain": [
       "[array(['Mask', 'Mask_Chin', 'Mask_Mouth_Chin', 'Mask_Nose_Mouth'],\n",
       "       dtype='<U15')]"
      ]
     },
     "execution_count": 80,
     "metadata": {},
     "output_type": "execute_result"
    }
   ],
   "source": [
    "onehot.categories_"
   ]
  },
  {
   "cell_type": "code",
   "execution_count": 1,
   "id": "73402484",
   "metadata": {},
   "outputs": [],
   "source": [
    "import pandas as pd\n",
    "import matplotlib.pyplot as plt"
   ]
  },
  {
   "cell_type": "code",
   "execution_count": 2,
   "id": "2973c779",
   "metadata": {},
   "outputs": [
    {
     "ename": "NameError",
     "evalue": "name 'history' is not defined",
     "output_type": "error",
     "traceback": [
      "\u001b[1;31m---------------------------------------------------------------------------\u001b[0m",
      "\u001b[1;31mNameError\u001b[0m                                 Traceback (most recent call last)",
      "Cell \u001b[1;32mIn[2], line 1\u001b[0m\n\u001b[1;32m----> 1\u001b[0m history_df \u001b[38;5;241m=\u001b[39m pd\u001b[38;5;241m.\u001b[39mDataFrame(\u001b[43mhistory\u001b[49m\u001b[38;5;241m.\u001b[39mhistory)\n",
      "\u001b[1;31mNameError\u001b[0m: name 'history' is not defined"
     ]
    }
   ],
   "source": [
    "history_df = pd.DataFrame(history.history)"
   ]
  },
  {
   "cell_type": "code",
   "execution_count": null,
   "id": "3e7b6317",
   "metadata": {},
   "outputs": [],
   "source": []
  }
 ],
 "metadata": {
  "kernelspec": {
   "display_name": "Python 3 (ipykernel)",
   "language": "python",
   "name": "python3"
  },
  "language_info": {
   "codemirror_mode": {
    "name": "ipython",
    "version": 3
   },
   "file_extension": ".py",
   "mimetype": "text/x-python",
   "name": "python",
   "nbconvert_exporter": "python",
   "pygments_lexer": "ipython3",
   "version": "3.10.4"
  }
 },
 "nbformat": 4,
 "nbformat_minor": 5
}
